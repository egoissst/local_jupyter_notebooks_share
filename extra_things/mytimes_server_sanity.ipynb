{
 "cells": [
  {
   "cell_type": "code",
   "execution_count": 1,
   "metadata": {},
   "outputs": [],
   "source": [
    "import requests"
   ]
  },
  {
   "cell_type": "code",
   "execution_count": 2,
   "metadata": {},
   "outputs": [],
   "source": [
    "def print_red(text):\n",
    "    \"\"\"\n",
    "    prints the given text in red colour\n",
    "    \"\"\"\n",
    "    print('\\033[31m', text, '\\033[0m', sep='')"
   ]
  },
  {
   "cell_type": "code",
   "execution_count": 3,
   "metadata": {},
   "outputs": [],
   "source": [
    "def sanity_topcomment_server(server_ip):\n",
    "    \"\"\"\n",
    "    triggers topcomment URL for the given server and prints whether the call returned at least a valid comment\n",
    "    \"\"\"\n",
    "    sanity_topcomment_url = \"http://{}/mytimes/topCommentFeed/?appkey=TOI&top=1\".format(server_ip)\n",
    "    \n",
    "    try:\n",
    "        json_res = requests.get(sanity_topcomment_url).json()[0]\n",
    "        if('_id' in json_res):\n",
    "            print('sanity_topcomment_url verified for server : {}'.format(server_ip))\n",
    "        else:\n",
    "            print_red('sanity_topcomment_url FAIL for server : {}'.format(server_ip))\n",
    "    except Exception as ex:\n",
    "        print('problem in sanity_topcomment_server verification for server : {}'.format(server_ip))"
   ]
  },
  {
   "cell_type": "code",
   "execution_count": 4,
   "metadata": {},
   "outputs": [],
   "source": [
    "def sanity_activity_coll_server(server_ip):\n",
    "    \"\"\"\n",
    "    triggers activity retrieval API for a particular comment\n",
    "    verifies that the server can connect to activity cluster or not\n",
    "    \"\"\"\n",
    "    sanity_activity_coll_url = \"http://{}/mytimes/activity/?id=2526432535\".format(server_ip)\n",
    "    \n",
    "    try:\n",
    "        json_res = requests.get(sanity_activity_coll_url).json()[0]\n",
    "        if('_id' in json_res):\n",
    "            print('sanity_activity_coll_url verified for server : {}'.format(server_ip))\n",
    "        else:\n",
    "            print_red('sanity_activity_coll_url FAIL for server : {}'.format(server_ip))\n",
    "    except Exception as ex:\n",
    "        print('problem in sanity_activity_coll_url verification for server : {}'.format(server_ip))"
   ]
  },
  {
   "cell_type": "code",
   "execution_count": 5,
   "metadata": {},
   "outputs": [],
   "source": [
    "def sanity_user_coll_server(server_ip):\n",
    "    \"\"\"\n",
    "    triggers a user retrieval API for a particular user\n",
    "    verifies that the server can connect to the user cluster\n",
    "    \"\"\"\n",
    "    sanity_user_coll_url = \"http://{}/mytimes/getUsersInfo?ssoids=8e34qgs1rjhp6lnggru04h1dg&extraInfo=true\".format(server_ip)\n",
    "    \n",
    "    try:\n",
    "        json_res = requests.get(sanity_user_coll_url).json()[0]\n",
    "        if('uid' in json_res):\n",
    "            print('sanity_user_coll_url verified for server : {}'.format(server_ip))\n",
    "        else:\n",
    "            print_red('sanity_user_coll_url FAIL for server : {}'.format(server_ip))\n",
    "    except Exception as ex:\n",
    "        print('problem in sanity_user_coll_url verification for server : {}'.format(server_ip))"
   ]
  },
  {
   "cell_type": "code",
   "execution_count": 15,
   "metadata": {},
   "outputs": [],
   "source": [
    "def sanity_health_check_server(server_ip):\n",
    "    \"\"\"\n",
    "    triggers the mytimes healthcheck url\n",
    "    verifies that the tomcat and apache is running on the server\n",
    "    \"\"\"\n",
    "    \n",
    "    health_check_url = \"http://{}/mytimes/healthcheck.jsp\".format(server_ip)\n",
    "    \n",
    "    try:\n",
    "        res_text = requests.get(health_check_url).text\n",
    "        if('ok' in res_text):\n",
    "            print('health_check_url verified for server : {}'.format(server_ip))\n",
    "        else:\n",
    "            print_red('health_check_url FAIL for server : {}'.format(server_ip))\n",
    "    except Exception as ex:\n",
    "        print('problem in health_check_url verification for server : {}'.format(server_ip))"
   ]
  },
  {
   "cell_type": "code",
   "execution_count": 17,
   "metadata": {},
   "outputs": [],
   "source": [
    "def all_sanity_api_check(server_ip):    \n",
    "    #sanity of the server wrt topcommetn, activity collection query, user collection query\n",
    "    sanity_topcomment_server(server_ip)\n",
    "    sanity_activity_coll_server(server_ip)\n",
    "    sanity_user_coll_server(server_ip)\n",
    "    sanity_health_check_server(server_ip)"
   ]
  },
  {
   "cell_type": "code",
   "execution_count": 21,
   "metadata": {},
   "outputs": [],
   "source": [
    "multi_line_mytimes_servers = \"\"\"\n",
    "#mytpvt cluster servers\n",
    "172.24.80.140\n",
    "172.24.80.141\n",
    "172.24.80.142\n",
    "172.29.64.131\n",
    "172.29.64.132\n",
    "172.29.64.133\n",
    "\"\"\""
   ]
  },
  {
   "cell_type": "code",
   "execution_count": 25,
   "metadata": {
    "scrolled": false
   },
   "outputs": [],
   "source": [
    "# server_ip = \"192.168.36.98\"\n",
    "# all_sanity_api_check(server_ip)"
   ]
  },
  {
   "cell_type": "code",
   "execution_count": 23,
   "metadata": {},
   "outputs": [
    {
     "name": "stdout",
     "output_type": "stream",
     "text": [
      "sanity_topcomment_url verified for server : 172.24.80.140\n",
      "sanity_activity_coll_url verified for server : 172.24.80.140\n",
      "sanity_user_coll_url verified for server : 172.24.80.140\n",
      "health_check_url verified for server : 172.24.80.140\n",
      "\n",
      "sanity_topcomment_url verified for server : 172.24.80.141\n",
      "sanity_activity_coll_url verified for server : 172.24.80.141\n",
      "sanity_user_coll_url verified for server : 172.24.80.141\n",
      "health_check_url verified for server : 172.24.80.141\n",
      "\n",
      "sanity_topcomment_url verified for server : 172.24.80.142\n",
      "sanity_activity_coll_url verified for server : 172.24.80.142\n",
      "sanity_user_coll_url verified for server : 172.24.80.142\n",
      "health_check_url verified for server : 172.24.80.142\n",
      "\n",
      "sanity_topcomment_url verified for server : 172.29.64.131\n",
      "sanity_activity_coll_url verified for server : 172.29.64.131\n",
      "sanity_user_coll_url verified for server : 172.29.64.131\n",
      "health_check_url verified for server : 172.29.64.131\n",
      "\n",
      "sanity_topcomment_url verified for server : 172.29.64.132\n",
      "sanity_activity_coll_url verified for server : 172.29.64.132\n",
      "sanity_user_coll_url verified for server : 172.29.64.132\n",
      "health_check_url verified for server : 172.29.64.132\n",
      "\n",
      "sanity_topcomment_url verified for server : 172.29.64.133\n",
      "sanity_activity_coll_url verified for server : 172.29.64.133\n",
      "sanity_user_coll_url verified for server : 172.29.64.133\n",
      "health_check_url verified for server : 172.29.64.133\n",
      "\n"
     ]
    }
   ],
   "source": [
    "server_ip_list = get_list_from_multi_line_string(multi_line_mytimes_servers)\n",
    "\n",
    "for server_ip in server_ip_list:\n",
    "    all_sanity_api_check(server_ip)\n",
    "    print()"
   ]
  },
  {
   "cell_type": "code",
   "execution_count": null,
   "metadata": {},
   "outputs": [],
   "source": []
  }
 ],
 "metadata": {
  "kernelspec": {
   "display_name": "Python 3",
   "language": "python",
   "name": "python3"
  },
  "language_info": {
   "codemirror_mode": {
    "name": "ipython",
    "version": 3
   },
   "file_extension": ".py",
   "mimetype": "text/x-python",
   "name": "python",
   "nbconvert_exporter": "python",
   "pygments_lexer": "ipython3",
   "version": "3.6.5"
  }
 },
 "nbformat": 4,
 "nbformat_minor": 2
}
